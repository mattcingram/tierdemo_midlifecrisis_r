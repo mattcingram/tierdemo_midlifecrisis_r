{
 "cells": [
  {
   "cell_type": "markdown",
   "metadata": {},
   "source": [
    "# Demo with R from Jupyter\n",
    "### Matt Ingram\n",
    "### University at Albany, SUNY\n",
    "# Demo: Midlife Crisis\n",
    "### __Computing Tools__: R and markdown in JupyterHub\n",
    "### __Subject fields__: economics, social science\n",
    "### __Methods topics__: data management, descriptive statistics, histograms, OLS"
   ]
  },
  {
   "cell_type": "markdown",
   "metadata": {},
   "source": [
    "# Introduction"
   ]
  },
  {
   "cell_type": "markdown",
   "metadata": {},
   "source": [
    "This notebook documents a demo of Project TIER's midlife crisis exercise in R from within the Jypyter platform. \n",
    "\n",
    "R can run natively in Jupyter using the IRkernel. That is, in contrast to using Stata, where a notebook opens with Python running natively and Stata must be called within each cell using Stata, users can run a notebook like this oen with R running natively. R does not need to be called within each cell.\n",
    "\n",
    "For more information on IRkernel, see: https://github.com/IRkernel/IRkernel\n",
    "\n",
    "I am using JupyterHub and JupyterLab. JupyterHub is a server-based version of Jupyter that allows central installation of software and multiple users. In academic settings, the advantages are:\n",
    "- shared resources to avoid duplication and enhance collaboration\n",
    "- secure sign-on with instiutional IDs and passwords\n",
    "- remote computing\n",
    "- extensions to use JupyterHub as a learning management system, including assigmment management\n",
    "\n",
    "JupyterLab is an interface that mimics features of an integrated development environment (IDE), allowing multiple notebooks to be opened at once, side by side, while at the same time being able to view directory, pull-down menus, etc.\n",
    "\n",
    "For more information on Jupyter, see: http://jupyter.org/\n",
    "\n",
    "For more information on JupyterHub, see: https://github.com/jupyterhub/jupyterhub\n",
    "\n",
    "For more information on JupyterLab, see: https://github.com/jupyterlab/jupyterlab"
   ]
  },
  {
   "cell_type": "markdown",
   "metadata": {},
   "source": [
    "# Set Environment"
   ]
  },
  {
   "cell_type": "markdown",
   "metadata": {},
   "source": [
    "## Set options"
   ]
  },
  {
   "cell_type": "code",
   "execution_count": 1,
   "metadata": {},
   "outputs": [],
   "source": [
    "# Change plot size to 4 x 4\n",
    "options(repr.plot.width=4, repr.plot.height=4)"
   ]
  },
  {
   "cell_type": "markdown",
   "metadata": {},
   "source": [
    "## Import R packages"
   ]
  },
  {
   "cell_type": "code",
   "execution_count": 2,
   "metadata": {},
   "outputs": [],
   "source": [
    "#library(pacman)\n",
    "#p_load(ggplot2, data.table, xtable, stargazer, repr)\n",
    "library(ggplot2)\n",
    "library(dplyr)\n",
    "library(tidyr)\n",
    "library(rio)\n",
    "library(texreg)\n",
    "library(pacman)\n",
    "library(xtable)\n",
    "library(stargazer)\n",
    "library(data.table)\n",
    "library(repr)\n",
    "library(tidyverse)\n"
   ]
  },
  {
   "cell_type": "markdown",
   "metadata": {},
   "source": [
    "# Set Working Directory"
   ]
  },
  {
   "cell_type": "code",
   "execution_count": 3,
   "metadata": {},
   "outputs": [
    {
     "data": {
      "text/html": [
       "'/home1/s/m/mi122167/OpenStats/replication1lacina'"
      ],
      "text/latex": [
       "'/home1/s/m/mi122167/OpenStats/replication1lacina'"
      ],
      "text/markdown": [
       "'/home1/s/m/mi122167/OpenStats/replication1lacina'"
      ],
      "text/plain": [
       "[1] \"/home1/s/m/mi122167/OpenStats/replication1lacina\""
      ]
     },
     "metadata": {},
     "output_type": "display_data"
    }
   ],
   "source": [
    "#getwd()\n",
    "#path <- '/home1/s/m/mi122167/OpenStats/replication1lacina'\n",
    "#setwd(path)"
   ]
  },
  {
   "cell_type": "markdown",
   "metadata": {},
   "source": [
    "## Create sub-directories"
   ]
  },
  {
   "cell_type": "code",
   "execution_count": 4,
   "metadata": {},
   "outputs": [
    {
     "name": "stderr",
     "output_type": "stream",
     "text": [
      "Warning message in dir.create(\"./data\", showWarnings = TRUE):\n",
      "“'../data' already exists”Warning message in dir.create(\"../figures\", showWarnings = TRUE):\n",
      "“'../figures' already exists”Warning message in dir.create(\"../output\", showWarnings = TRUE):\n",
      "“'../output' already exists”Warning message in dir.create(\"../tables\", showWarnings = TRUE):\n",
      "“'../tables' already exists”"
     ]
    }
   ],
   "source": [
    "# dir.create checks whether subdirectories exist; if missing, creates them\n",
    "dir.create(\"../data\",showWarnings = TRUE)\n",
    "dir.create(\"../data/original\",showWarnings = TRUE)\n",
    "dir.create(\"../data/working\",showWarnings = TRUE)\n",
    "dir.create(\"../figures\",showWarnings = TRUE)\n",
    "dir.create(\"../output\",showWarnings = TRUE)\n",
    "dir.create(\"../tables\",showWarnings = TRUE)"
   ]
  },
  {
   "cell_type": "markdown",
   "metadata": {},
   "source": [
    "# Load and Process Data"
   ]
  },
  {
   "cell_type": "code",
   "execution_count": 5,
   "metadata": {},
   "outputs": [
    {
     "data": {
      "text/html": [
       "<table>\n",
       "<thead><tr><th scope=col>ID</th><th scope=col>conflict_name</th><th scope=col>ccode</th></tr></thead>\n",
       "<tbody>\n",
       "\t<tr><td>1990                   </td><td>India (Mizoram)        </td><td>750                    </td></tr>\n",
       "\t<tr><td>1500                   </td><td>Argentina 1955         </td><td>160                    </td></tr>\n",
       "\t<tr><td>2770                   </td><td>Romania 1989           </td><td>360                    </td></tr>\n",
       "\t<tr><td>2970                   </td><td>Croatia 1992-5         </td><td>344                    </td></tr>\n",
       "\t<tr><td>3000                   </td><td>Georgia (South Ossetia)</td><td>372                    </td></tr>\n",
       "</tbody>\n",
       "</table>\n"
      ],
      "text/latex": [
       "\\begin{tabular}{r|lll}\n",
       " ID & conflict\\_name & ccode\\\\\n",
       "\\hline\n",
       "\t 1990                    & India (Mizoram)         & 750                    \\\\\n",
       "\t 1500                    & Argentina 1955          & 160                    \\\\\n",
       "\t 2770                    & Romania 1989            & 360                    \\\\\n",
       "\t 2970                    & Croatia 1992-5          & 344                    \\\\\n",
       "\t 3000                    & Georgia (South Ossetia) & 372                    \\\\\n",
       "\\end{tabular}\n"
      ],
      "text/markdown": [
       "\n",
       "ID | conflict_name | ccode | \n",
       "|---|---|---|---|---|\n",
       "| 1990                    | India (Mizoram)         | 750                     | \n",
       "| 1500                    | Argentina 1955          | 160                     | \n",
       "| 2770                    | Romania 1989            | 360                     | \n",
       "| 2970                    | Croatia 1992-5          | 344                     | \n",
       "| 3000                    | Georgia (South Ossetia) | 372                     | \n",
       "\n",
       "\n"
      ],
      "text/plain": [
       "  ID   conflict_name           ccode\n",
       "1 1990 India (Mizoram)         750  \n",
       "2 1500 Argentina 1955          160  \n",
       "3 2770 Romania 1989            360  \n",
       "4 2970 Croatia 1992-5          344  \n",
       "5 3000 Georgia (South Ossetia) 372  "
      ]
     },
     "metadata": {},
     "output_type": "display_data"
    }
   ],
   "source": [
    "# IMPORT WDI DATA\n",
    "# Indicator: NE.CON.GOVT.ZS (General government final consumption expenditure (% of GDP))\n",
    "# Countries (ISO-2 codes): China (CN), India (IN), Indonesia (ID), Jordan (JO), Pakistan (PK), Russia (RU), United States (US)\n",
    "# Year: 2002\n",
    "\n",
    "exp_dat <- read.csv(\"../data/original/API_NE.CON.GOVT.ZS_DS2_en_csv_v2_9913909.csv\", skip=4)\n",
    "str(exp_dat)\n",
    "\n",
    "# Keep relevant variables\n",
    "exp_dat <- select(exp_dat, -`Country.Code`, -`Indicator.Name`, -`Indicator.Code`, -`X`)\n",
    "\n",
    "# Reshape from wide to long using tidyr\n",
    "exp_dat_long <- gather(exp_dat, Year, Value, -`Country.Name`)\n",
    "exp_dat_long$exp <- as.numeric(exp_dat_long$Value)\n",
    "\n",
    "# Rename variables\n",
    "exp_dat_long <- rename(exp_dat_long, CountryName = `Country.Name`)\n",
    "\n",
    "# Filter for relevant observations\n",
    "exp_dat_long <- filter(exp_dat_long, \n",
    "  CountryName %in% c(\"China\", \"India\", \"Indonesia\", \n",
    "                  \"Jordan\", \"Pakistan\", \"Russian Federation\", \"United States\") &\n",
    "   Year == 2002)\n",
    "\n",
    "# Keep relevant variables\n",
    "exp_dat_2002 <- select(exp_dat_long,\n",
    "                       CountryName, exp)\n",
    "\n",
    "# IMPORT WDI DATA\n",
    "# Indicator: NY.GDP.PCAP.CD (GDP per capita\n",
    "# Countries (ISO-2 codes): China (CN), India (IN), Indonesia (ID), Jordan (JO), Pakistan (PK), Russia (RU), United States (US)\n",
    "# Year: 2002\n",
    "\n",
    "inc_dat <- read.csv(\"../data/original/API_NY.GDP.PCAP.CD_DS2_en_csv_v2_9908784.csv\", skip=4)\n",
    "str(inc_dat)\n",
    "\n",
    "# Keep relevant variables\n",
    "inc_dat <- select(inc_dat, -`Country.Code`, -`Indicator.Name`, -`Indicator.Code`, -`X`)\n",
    "\n",
    "# Reshape from wide to long using tidyr\n",
    "inc_dat_long <- gather(inc_dat, Year, Value, -`Country.Name`)\n",
    "inc_dat_long$inc <- as.numeric(inc_dat_long$Value)\n",
    "\n",
    "# Rename variables\n",
    "inc_dat_long <- rename(inc_dat_long, CountryName = `Country.Name`)\n",
    "\n",
    "# Filter for relevant observations\n",
    "inc_dat_long <- filter(inc_dat_long, \n",
    "                       CountryName %in% c(\"China\", \"India\", \"Indonesia\", \n",
    "                                          \"Jordan\", \"Pakistan\", \"Russian Federation\", \"United States\") &\n",
    "                         Year == 2002)\n",
    "\n",
    "# Keep relevant variables\n",
    "inc_dat_2002 <- select(inc_dat_long,\n",
    "                       CountryName, inc)\n",
    "\n",
    "# Combine both WDI variables\n",
    "wdi_dat_2002 <- bind_cols(inc_dat_2002, exp_dat_2002)\n",
    "original_wdi <- select(wdi_dat_2002, CountryName, inc, exp)\n",
    "\n",
    "# Alternative: retrieve WDI data via API using the WDI package\n",
    "\n",
    "# library(\"WDI\")\n",
    "# \n",
    "# original_wdi <- WDI(country = c(\"CN\", \"IN\", \"ID\", \"JO\", \"PK\", \"RU\", \"US\"),\n",
    "#                     indicator = c(\"NY.GDP.PCAP.CD\", \"NE.CON.GOVT.ZS\"),\n",
    "#                     start = 2002,\n",
    "#                     end = 2002)\n",
    "# \n",
    "# str(original_wdi)\n",
    "\n",
    "# original_wdi <- rename(original_wdi, inc = NY.GDP.PCAP.CD, \n",
    "                        # exp = NE.CON.GOVT.ZS,\n",
    "                        # CountryName = country)\n",
    "\n",
    "# SO THAT WE CAN MERGE THIS WDI DATA WITH THE PEW DATA,\n",
    "# GENERATE A VARIABLE country THAT CODES THE COUNTRIES\n",
    "# IN THE SAME WAY AS THE PEW DATA.\n",
    "\n",
    "original_wdi$ccode_pew <- -99\n",
    "original_wdi[original_wdi$CountryName == \"China\", ]$ccode_pew <- 8 \n",
    "original_wdi[original_wdi$CountryName == \"India\", ]$ccode_pew <- 17 \n",
    "original_wdi[original_wdi$CountryName == \"Indonesia\", ]$ccode_pew <- 18 \n",
    "original_wdi[original_wdi$CountryName == \"Jordan\", ]$ccode_pew <- 45 \n",
    "original_wdi[original_wdi$CountryName == \"Pakistan\", ]$ccode_pew <- 27 \n",
    "original_wdi[original_wdi$CountryName == \"Russian Federation\", ]$ccode_pew <- 31\n",
    "original_wdi[original_wdi$CountryName == \"United States\", ]$ccode_pew <- 40\n",
    "\n",
    "table(original_wdi$ccode_pew)\n",
    "\n",
    "# Comment out the next line if we want to save importable data\n",
    "\n",
    "# export(original_wdi, file = \"../Importable-Data/wdi.csv\")\n",
    "\n",
    "# OPEN THE ORIGINAL PEW DATA\n",
    "original_pew <- rio::import(\"../data/original/original-pew.sav\")\n",
    "\n",
    "# KEEP ONLY THE VARIABLES THAT WILL BE USED FOR \n",
    "# THIS STUDY\n",
    "pew <- original_pew[, c(\"country\", \"q2\", \"q74\")]\n",
    "pew <- select(original_pew, country, q2, q74) # tidyverse equivalent\n",
    "\n",
    "# GIVE THE VARIABLES NICER NAMES AND LABELS\n",
    "pew <- rename(pew, satis = q2, age = q74)\n",
    "\n",
    "# FOR VARIABLES satis AND age\n",
    "# RECODE \"DON'T KNOW\" and \"REFUSED\" AS NA\n",
    "\n",
    "# To see how missing values and refusals are coded for satis\n",
    "table(pew$satis)\n",
    "\n",
    "# Consult ../Original-Data/metadata/supplements/2-Pew-GAP-Survey-details 1.1.pdf\n",
    "# page 6:\n",
    "# Range 0-10\n",
    "# 11 Dont know (DO NOT READ)\n",
    "# 12 Refused (DO NOT READ)\n",
    "\n",
    "pew$satis <- ifelse(pew$satis == 11, NA, pew$satis)\n",
    "pew$satis <- ifelse(pew$satis == 12, NA, pew$satis)\n",
    "\n",
    "table(pew$satis)\n",
    "\n",
    "# To see how missing values and refusals are coded for age\n",
    "table(pew$age)\n",
    "\n",
    "# Consult ../Original-Data/metadata/supplements/1-Pew-GAP-Survey-details 1.1.pdf\n",
    "# page 6:\n",
    "# Range 18-96\n",
    "# 97 97 or older\n",
    "# 98 Dont know (DO NOT READ)\n",
    "# 99 Refused (DO NOT READ)\n",
    "\n",
    "pew$age <- ifelse(pew$age == 98, NA, pew$age)\n",
    "pew$age <- ifelse(pew$age == 99, NA, pew$age)\n",
    "\n",
    "table(pew$age)\n",
    "\n",
    "# DROP OBSERVATIONS FOR ALL INDIVIDUALS FOR WHOM \n",
    "# THE VALUE OF THE VARIABLE satis IS MISSING OR REFUSED\n",
    "pew <- pew[!is.na(pew$satis), ]\n",
    "pew <- filter(pew, !is.na(satis)) # tidyverse equivalent\n",
    "\n",
    "# DROP OBSERVATIONS FOR ALL INDIVIDUALS WHO ARE \n",
    "# LESS THAN 21 OR MORE THAN 70 YEARS OF AGE\n",
    "# OR FOR WHOM THE VALUE OF THE VARIABLE age IS MISSING\n",
    "\n",
    "# To drop observations where the value of age is either\n",
    "# greater than 70, or missing or refused\n",
    "pew <- pew[pew$age <= 70, ]\n",
    "pew <- filter(pew, age <= 70) # tidyverse equivalent\n",
    "\n",
    "# To drop observations where the value of age is less than 21\n",
    "pew <- pew[pew$age >= 21, ]\n",
    "pew <- filter(pew, age >= 21) # tidyverse equivalent\n",
    "\n",
    "\n",
    "# KEEP DATA ONLY FOR COUNTRIES WITH AT LEAST 900 OBSERVATIONS\n",
    "# REMAINING IN THE SAMPLE AFTER REMOVAL OF INDIVIDUALS WITH \n",
    "# MISSING OR REFUSED VALUES OF satis 0R age, AS WELL AS REMOVAL\n",
    "# OF INDIVIDUALS UNDER 21 OR OVER 70 YEARS OF AGE\n",
    "\n",
    "# First, generate a variable called country_n that, for each\n",
    "# individual, equals the total number of observations that remain \n",
    "# in the sample representing individuals from her/his own country\n",
    "\n",
    "pew <- mutate(group_by(pew, country),\n",
    "              country_n = n())\n",
    "\n",
    "# Then drop all individuals for whom country_n is less than 900\n",
    "pew <- filter(pew, country_n >= 900)\n",
    "\n",
    "table(pew$country)\n",
    "\n",
    "# The variable country_n is no longer needed, so drop it\n",
    "pew <- select(pew, -country_n)\n",
    "\n",
    "# Rename variables\n",
    "pew <- rename(pew, ccode_pew = country)\n",
    "\n",
    "# IN SOME OF THE ANALYSIS I WILL WANT TO USE BOTH AGE AND\n",
    "# THE SQUARE OF AGE.  SO GENERATE A NEW VARIABLE age2 EQUAL\n",
    "# TO THE SQUARE OF AGE.\n",
    "pew$age2 <- pew$age^2\n",
    "\n",
    "# Comment out the next line if we want to save importable data\n",
    "\n",
    "# export(pew, file = \"../Importable-Data/pew.csv\")\n",
    "\n",
    "# MERGE both datasets\n",
    "di <- merge(x = pew, y = original_wdi, by = \"ccode_pew\")\n",
    "\n",
    "\n",
    "# SAVE THE INDIVIDUAL-LEVEL DATA WITH THE NAME individual-analysis.ext\n",
    "# Save this file in the \"Analysis-Data\" folder.\n",
    "export(di, file = \"../data/working/individual-analysis.csv\")\n",
    "\n",
    "# CREATE A COUNTRY-LEVEL DATA SET \n",
    "# WITH COUNTRIES IDENTIFIED BY countryname AND country \n",
    "# INCLUDING THE VARIABLES satis exp AND inc\n",
    "# IN WHICH\n",
    "\n",
    "\t# THE VALUE OF cm_satis IS EQUAL TO THE MEAN VALUE\n",
    "\t# FOR ALL INDIVIDUALS IN THE COUNTRY\n",
    "\t\n",
    "\t# THE VALUES OF exp AND inc ARE THE VALUES\n",
    "\t# OF THESE VARIABLES FOR THE COUNTRY IN THE YEAR 2002\n",
    "\t\n",
    "dc <- summarize(group_by(di, ccode_pew),\n",
    "                         CountryName = first(CountryName),\n",
    "                         cm_satis = mean(satis),\n",
    "                         exp = mean(exp),\n",
    "                         inc = mean(inc))\n",
    " \n"
   ]
  },
  {
   "cell_type": "markdown",
   "metadata": {},
   "source": [
    "# Save Data"
   ]
  },
  {
   "cell_type": "code",
   "execution_count": null,
   "metadata": {},
   "outputs": [],
   "source": [
    "# SAVE THE COUNTRY-LEVEL DATA WITH THE NAME country-analysis.ext\n",
    "# Save this file in the \"Analysis-Data\" folder.\n",
    "export(dc, file = \"../data/working/country-analysis.csv\")"
   ]
  },
  {
   "cell_type": "markdown",
   "metadata": {},
   "source": [
    "# Analysis"
   ]
  },
  {
   "cell_type": "code",
   "execution_count": null,
   "metadata": {},
   "outputs": [],
   "source": [
    "## ----dataprep, eval = FALSE, echo = FALSE, results = \"hide\"--------------\n",
    "## # Note: This script creates the data used in this paper.\n",
    "## # eval is set to FALSE because the script does not need to be run each\n",
    "## # time the paper is compiled.\n",
    "## source(\"../Command-Files/1-processing.R\")\n",
    "\n",
    "## ----loaddata, echo = FALSE----------------------------------------------\n",
    "dc <- import(\"../data/working/country-analysis.csv\")\n",
    "di <- import(\"../data/working/individual-analysis.csv\")\n",
    "\n",
    "## ----table1, echo = FALSE------------------------------------------------\n",
    "table1 <- select(dc, -ccode_pew)\n",
    "table1 <- arrange(table1, CountryName)\n",
    "names(table1) <- c(\"Country\", \"Mean Satis.\", \"GDP per capita\", \"Gov. Cons.\")\n",
    "kable(table1, \n",
    "      digits = 2,\n",
    "      caption = \"Mean Satisfaction, GPD per capita and Government Consumption by Country\")\n",
    "\n",
    "## ----regressions, echo = FALSE-------------------------------------------\n",
    "r1 <- lm(satis ~ age + age2, data = di)\n",
    "r2 <- lm(satis ~ age + age2 + factor(CountryName), data = di)\n",
    "\n",
    "## ----table2-pdf, eval = FALSE, results = 'asis', echo = FALSE------------\n",
    "## texreg(list(r1, r2),\n",
    "##        custom.coef.names = c(\"Constant\", \"Age\", \"Age squared\"),\n",
    "##        omit.coef = \"factor\",\n",
    "##        digits = 3,\n",
    "##        caption = \"Regression results\",\n",
    "##        caption.above = TRUE,\n",
    "##        bold = 0.05, stars = 0,\n",
    "##        custom.note = \"Standard errors in parentheses. Coefficients with $p < 0.05$ in bold font.\")\n",
    "\n",
    "## ----table2-html, eval = TRUE, results = 'asis', echo = FALSE------------\n",
    "htmlreg(list(r1, r2),\n",
    "       custom.coef.names = c(\"Constant\", \"Age\", \"Age squared\"),\n",
    "       omit.coef = \"factor\",\n",
    "       digits = 3,\n",
    "       caption = \"Regression results\",\n",
    "       caption.above = TRUE,\n",
    "       custom.model.names = c(\"Pooled\", \"Country fixed effects\"),\n",
    "       bold = 0.05, stars = 0,\n",
    "       custom.note = \"Standard errors in parentheses. Coefficients with p < 0.05 in bold font.\")\n",
    "\n",
    "## ----figure1, echo = FALSE, fig.cap = \"Scatterplot of GDP per capita and mean satisfaction\", fig.align = \"center\"----\n",
    "ggplot(data = dc, aes(x = inc, y = cm_satis)) + \n",
    "  geom_point() + \n",
    "  geom_text(aes(label = CountryName), vjust = \"inward\", hjust = \"inward\") + \n",
    "  xlab(\"GDP per capita (current [2002] $ US)\") + \n",
    "  ylab(\"Country mean satisfaction\")\n",
    "\n",
    "## ----figure2, echo = FALSE, fig.cap = \"Scatterplot of General Government Consumption and mean satisfaction\", fig.align = \"center\"----\n",
    "ggplot(data = dc, aes(x = exp, y = cm_satis)) + \n",
    "  geom_point() + \n",
    "  geom_text(aes(label = CountryName), vjust = \"inward\", hjust = \"inward\") + \n",
    "  xlab(\"Government consumption, % of GDP\") + \n",
    "  ylab(\"Country mean satisfaction\")\n",
    "\n",
    "## ----extractrcode, eval = FALSE, echo = FALSE----------------------------\n",
    "## # Note: this command extracts the R code from this .Rmd file and\n",
    "## # creates a pure R script, then places it in the\n",
    "## # Command-Files folder. Highlight and run the next two lines if you wish to\n",
    "## # generate the R script.\n",
    "## purl(input = \"2-Midlife-Crisis-paper.Rmd\", output = \"2-analysis.R\")\n",
    "## file.rename(\"2-analysis.R\", \"../Command-Files/2-analysis.R\")"
   ]
  }
 ],
 "metadata": {
  "kernelspec": {
   "display_name": "R",
   "language": "R",
   "name": "ir"
  },
  "language_info": {
   "codemirror_mode": "r",
   "file_extension": ".r",
   "mimetype": "text/x-r-source",
   "name": "R",
   "pygments_lexer": "r",
   "version": "3.5.0"
  }
 },
 "nbformat": 4,
 "nbformat_minor": 2
}
